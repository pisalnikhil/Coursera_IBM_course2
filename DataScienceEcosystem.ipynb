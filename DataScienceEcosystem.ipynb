{
 "cells": [
  {
   "cell_type": "markdown",
   "id": "05767da6",
   "metadata": {},
   "source": [
    "# Data Science Tools and Ecosystem"
   ]
  },
  {
   "cell_type": "markdown",
   "id": "a20d13ee",
   "metadata": {},
   "source": [
    "## In this notebook, Data Science Tools and Ecosystem are summarized."
   ]
  },
  {
   "cell_type": "markdown",
   "id": "b16e79d7",
   "metadata": {},
   "source": [
    "### Some of the popular languages that Data Scientists use are:\n",
    "1. **Java**\n",
    "2. **Python**\n",
    "3. **R**\n"
   ]
  },
  {
   "cell_type": "markdown",
   "id": "e08edb63",
   "metadata": {},
   "source": [
    "**Objectives:**\n",
    "* how deal with ML tools\n",
    "* how to use GIT\n",
    "* what is R"
   ]
  },
  {
   "cell_type": "markdown",
   "id": "7610650b",
   "metadata": {},
   "source": [
    "### Some of the commonly used libraries used by Data Scientists include:\n",
    "1. **TensorFlow**\n",
    "2. **NumPy**\n",
    "3. **SciPy**\n",
    "4. **Pandas**\n",
    "5. **Matplotlib**"
   ]
  },
  {
   "cell_type": "markdown",
   "id": "59f3f7c1",
   "metadata": {},
   "source": [
    "### Data Science Tools\n",
    "\n",
    "| Tools |\n",
    "|:--------:|\n",
    "|Tableau   | \n",
    "|TensorFlow | \n",
    "|Apache Spark| \n",
    "|Python|\n",
    "|Jupyter Notebook|"
   ]
  },
  {
   "cell_type": "markdown",
   "id": "30326cbd",
   "metadata": {},
   "source": [
    "### Below are a few examples of evaluating arithmetic expressions in Python\n",
    "$y = x + 2 $\n",
    "\n",
    "$y = 2$\n",
    "\n",
    "$x^{2} = 2$"
   ]
  },
  {
   "cell_type": "code",
   "execution_count": 25,
   "id": "6dc1a525",
   "metadata": {},
   "outputs": [
    {
     "data": {
      "text/plain": [
       "17"
      ]
     },
     "execution_count": 25,
     "metadata": {},
     "output_type": "execute_result"
    }
   ],
   "source": [
    "# This a simple arithmetic expression to mutiply then add integers\n",
    "(3*4)+5"
   ]
  },
  {
   "cell_type": "code",
   "execution_count": 26,
   "id": "1ee6b9ea",
   "metadata": {},
   "outputs": [
    {
     "name": "stdout",
     "output_type": "stream",
     "text": [
      "This will convert 200  minutes to hours by diving by 60 and final answer is 3.3333333333333335\n"
     ]
    }
   ],
   "source": [
    " #This will convert 200 minutes to hours by diving by 60\n",
    "y = 200\n",
    "x = 'This will convert'\n",
    "z = 'minutes to hours by diving by 60 and final answer is'\n",
    "print(x+ \" \" +str(y)+ \" \" + \" \" + z + \" \" + str(y/60))\n"
   ]
  },
  {
   "cell_type": "markdown",
   "id": "1ae8a2da",
   "metadata": {},
   "source": [
    "## Author\n",
    "Nikhil"
   ]
  },
  {
   "cell_type": "code",
   "execution_count": null,
   "id": "58e88f01",
   "metadata": {},
   "outputs": [],
   "source": []
  }
 ],
 "metadata": {
  "kernelspec": {
   "display_name": "Python 3 (ipykernel)",
   "language": "python",
   "name": "python3"
  },
  "language_info": {
   "codemirror_mode": {
    "name": "ipython",
    "version": 3
   },
   "file_extension": ".py",
   "mimetype": "text/x-python",
   "name": "python",
   "nbconvert_exporter": "python",
   "pygments_lexer": "ipython3",
   "version": "3.11.5"
  }
 },
 "nbformat": 4,
 "nbformat_minor": 5
}
